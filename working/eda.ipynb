{
 "cells": [
  {
   "cell_type": "code",
   "execution_count": 6,
   "id": "anonymous-arctic",
   "metadata": {},
   "outputs": [],
   "source": [
    "import pandas as pd\n",
    "import seaborn as sb\n",
    "import matplotlib.pyplot as plt\n",
    "\n",
    "import numpy as np\n",
    "import os\n",
    "from src.config import Config\n",
    "from src.dataset import Dataset\n",
    "\n",
    "import joblib"
   ]
  },
  {
   "cell_type": "markdown",
   "id": "conscious-tyler",
   "metadata": {},
   "source": [
    "# Some EDA"
   ]
  },
  {
   "cell_type": "code",
   "execution_count": 2,
   "id": "impressive-private",
   "metadata": {},
   "outputs": [],
   "source": [
    "train_df = pd.read_csv(os.path.join(Config.data_dir, 'train.csv'))\n",
    "test_df = pd.read_csv(os.path.join(Config.data_dir, 'test.csv'))\n",
    "submission_df = pd.read_csv(os.path.join(Config.data_dir, 'sample_submission.csv'))"
   ]
  },
  {
   "cell_type": "code",
   "execution_count": 3,
   "id": "injured-dublin",
   "metadata": {},
   "outputs": [
    {
     "data": {
      "text/html": [
       "<div>\n",
       "<style scoped>\n",
       "    .dataframe tbody tr th:only-of-type {\n",
       "        vertical-align: middle;\n",
       "    }\n",
       "\n",
       "    .dataframe tbody tr th {\n",
       "        vertical-align: top;\n",
       "    }\n",
       "\n",
       "    .dataframe thead th {\n",
       "        text-align: right;\n",
       "    }\n",
       "</style>\n",
       "<table border=\"1\" class=\"dataframe\">\n",
       "  <thead>\n",
       "    <tr style=\"text-align: right;\">\n",
       "      <th></th>\n",
       "      <th>image_id</th>\n",
       "      <th>grapheme_root</th>\n",
       "      <th>vowel_diacritic</th>\n",
       "      <th>consonant_diacritic</th>\n",
       "      <th>grapheme</th>\n",
       "    </tr>\n",
       "  </thead>\n",
       "  <tbody>\n",
       "    <tr>\n",
       "      <th>200835</th>\n",
       "      <td>Train_200835</td>\n",
       "      <td>22</td>\n",
       "      <td>7</td>\n",
       "      <td>2</td>\n",
       "      <td>র্খে</td>\n",
       "    </tr>\n",
       "    <tr>\n",
       "      <th>200836</th>\n",
       "      <td>Train_200836</td>\n",
       "      <td>65</td>\n",
       "      <td>9</td>\n",
       "      <td>0</td>\n",
       "      <td>ত্তো</td>\n",
       "    </tr>\n",
       "    <tr>\n",
       "      <th>200837</th>\n",
       "      <td>Train_200837</td>\n",
       "      <td>2</td>\n",
       "      <td>1</td>\n",
       "      <td>4</td>\n",
       "      <td>অ্যা</td>\n",
       "    </tr>\n",
       "    <tr>\n",
       "      <th>200838</th>\n",
       "      <td>Train_200838</td>\n",
       "      <td>152</td>\n",
       "      <td>9</td>\n",
       "      <td>0</td>\n",
       "      <td>স্নো</td>\n",
       "    </tr>\n",
       "    <tr>\n",
       "      <th>200839</th>\n",
       "      <td>Train_200839</td>\n",
       "      <td>127</td>\n",
       "      <td>2</td>\n",
       "      <td>0</td>\n",
       "      <td>ল্টি</td>\n",
       "    </tr>\n",
       "  </tbody>\n",
       "</table>\n",
       "</div>"
      ],
      "text/plain": [
       "            image_id  grapheme_root  vowel_diacritic  consonant_diacritic  \\\n",
       "200835  Train_200835             22                7                    2   \n",
       "200836  Train_200836             65                9                    0   \n",
       "200837  Train_200837              2                1                    4   \n",
       "200838  Train_200838            152                9                    0   \n",
       "200839  Train_200839            127                2                    0   \n",
       "\n",
       "       grapheme  \n",
       "200835     র্খে  \n",
       "200836     ত্তো  \n",
       "200837     অ্যা  \n",
       "200838     স্নো  \n",
       "200839     ল্টি  "
      ]
     },
     "execution_count": 3,
     "metadata": {},
     "output_type": "execute_result"
    }
   ],
   "source": [
    "train_df.tail()"
   ]
  },
  {
   "cell_type": "code",
   "execution_count": 5,
   "id": "smaller-simple",
   "metadata": {},
   "outputs": [
    {
     "data": {
      "text/html": [
       "<div>\n",
       "<style scoped>\n",
       "    .dataframe tbody tr th:only-of-type {\n",
       "        vertical-align: middle;\n",
       "    }\n",
       "\n",
       "    .dataframe tbody tr th {\n",
       "        vertical-align: top;\n",
       "    }\n",
       "\n",
       "    .dataframe thead th {\n",
       "        text-align: right;\n",
       "    }\n",
       "</style>\n",
       "<table border=\"1\" class=\"dataframe\">\n",
       "  <thead>\n",
       "    <tr style=\"text-align: right;\">\n",
       "      <th></th>\n",
       "      <th>count</th>\n",
       "      <th>mean</th>\n",
       "      <th>std</th>\n",
       "      <th>min</th>\n",
       "      <th>25%</th>\n",
       "      <th>50%</th>\n",
       "      <th>75%</th>\n",
       "      <th>max</th>\n",
       "    </tr>\n",
       "  </thead>\n",
       "  <tbody>\n",
       "    <tr>\n",
       "      <th>grapheme_root</th>\n",
       "      <td>200840.0</td>\n",
       "      <td>86.415604</td>\n",
       "      <td>44.289815</td>\n",
       "      <td>0.0</td>\n",
       "      <td>53.0</td>\n",
       "      <td>85.0</td>\n",
       "      <td>123.0</td>\n",
       "      <td>167.0</td>\n",
       "    </tr>\n",
       "    <tr>\n",
       "      <th>vowel_diacritic</th>\n",
       "      <td>200840.0</td>\n",
       "      <td>3.357757</td>\n",
       "      <td>3.075717</td>\n",
       "      <td>0.0</td>\n",
       "      <td>1.0</td>\n",
       "      <td>2.0</td>\n",
       "      <td>7.0</td>\n",
       "      <td>10.0</td>\n",
       "    </tr>\n",
       "    <tr>\n",
       "      <th>consonant_diacritic</th>\n",
       "      <td>200840.0</td>\n",
       "      <td>1.277624</td>\n",
       "      <td>1.872504</td>\n",
       "      <td>0.0</td>\n",
       "      <td>0.0</td>\n",
       "      <td>0.0</td>\n",
       "      <td>2.0</td>\n",
       "      <td>6.0</td>\n",
       "    </tr>\n",
       "  </tbody>\n",
       "</table>\n",
       "</div>"
      ],
      "text/plain": [
       "                        count       mean        std  min   25%   50%    75%  \\\n",
       "grapheme_root        200840.0  86.415604  44.289815  0.0  53.0  85.0  123.0   \n",
       "vowel_diacritic      200840.0   3.357757   3.075717  0.0   1.0   2.0    7.0   \n",
       "consonant_diacritic  200840.0   1.277624   1.872504  0.0   0.0   0.0    2.0   \n",
       "\n",
       "                       max  \n",
       "grapheme_root        167.0  \n",
       "vowel_diacritic       10.0  \n",
       "consonant_diacritic    6.0  "
      ]
     },
     "execution_count": 5,
     "metadata": {},
     "output_type": "execute_result"
    }
   ],
   "source": [
    "train_df.describe().transpose()"
   ]
  },
  {
   "cell_type": "code",
   "execution_count": 33,
   "id": "proprietary-column",
   "metadata": {},
   "outputs": [],
   "source": [
    "def get_classes_distrib():\n",
    "    \n",
    "    vowels_distrib =  pd.DataFrame({\n",
    "                    'Class' : list(dict(train_df.vowel_diacritic.value_counts()).keys()),\n",
    "                    'counts' : list(dict(train_df.vowel_diacritic.value_counts()).values())\n",
    "\n",
    "                })\n",
    "                    \n",
    "    grapheme_root_distrib = pd.DataFrame({\n",
    "                    'Class' : list(dict(train_df.grapheme_root.value_counts()).keys()),\n",
    "                    'counts' : list(dict(train_df.grapheme_root.value_counts()).values())\n",
    "\n",
    "                })\n",
    "    \n",
    "    constant_distrib = pd.DataFrame({\n",
    "                    'Class' : list(dict(train_df.consonant_diacritic.value_counts()).keys()),\n",
    "                    'counts' : list(dict(train_df.consonant_diacritic.value_counts()).values())\n",
    "\n",
    "                })\n",
    "    \n",
    "    return vowels_distrib, grapheme_root_distrib, constant_distrib\n",
    "\n",
    "\n"
   ]
  },
  {
   "cell_type": "markdown",
   "id": "musical-method",
   "metadata": {},
   "source": [
    "# Distributions analysis"
   ]
  },
  {
   "cell_type": "code",
   "execution_count": 152,
   "id": "prospective-consumption",
   "metadata": {},
   "outputs": [],
   "source": [
    "def plot_distributions():    \n",
    "    \n",
    "    \"\"\"\n",
    "     Plot the distributions of the target classes\n",
    "    \"\"\"\n",
    "    vowels_distrib, grapheme_root_distrib, constant_distrib = get_classes_distrib()\n",
    "\n",
    "    fig , axes = plt.subplots(\n",
    "        ncols=3, \n",
    "        nrows=1, \n",
    "        figsize=(23, 5),\n",
    "        gridspec_kw={\n",
    "                       'width_ratios': [1, 3, 1],\n",
    "                       'height_ratios': [1]\n",
    "                   }\n",
    "    )\n",
    "    # vowels distrib\n",
    "    sb.barplot(data=vowels_distrib, x=vowels_distrib.Class, y=vowels_distrib.counts, ax=axes[0])\n",
    "    axes[0].set_title('Vowels class distibution ')\n",
    "\n",
    "\n",
    "    # grapheme root distrib\n",
    "    sb.barplot(data=grapheme_root_distrib, x=grapheme_root_distrib.Class, y=grapheme_root_distrib.counts, ax=axes[1])\n",
    "    axes[1].set_title('Grapheme roots class distibution (')\n",
    "    plt.sca(axes[1])\n",
    "    plt.xticks(rotation=0, ticks=[x for x in range(168) if x%5==0]) # show each 5 label for readability\n",
    "\n",
    "    # constant distrib\n",
    "    sb.barplot(data=constant_distrib, x=constant_distrib.Class, y=constant_distrib.counts, ax=axes[2])\n",
    "    axes[2].set_title('Constants class distibution')\n",
    "\n",
    "\n",
    "    plt.show()\n",
    "    \n",
    "    \n",
    "def get_percentages():\n",
    "    \"\"\"\n",
    "         Get the percentages of majoritary classes in the train dataset\n",
    "    \"\"\"\n",
    "    vowel_max_pct = (vowels_distrib['counts'].max() / len(train_df)) * 100\n",
    "    majoritary_vowel_class = vowels_distrib[vowels_distrib['counts']==vowels_distrib['counts'].max()].Class[0]\n",
    "\n",
    "    grapheme_root_max_pct = (grapheme_root_distrib['counts'].max() / len(train_df)) * 100\n",
    "    majoritary_grapheme_root_class = grapheme_root_distrib[grapheme_root_distrib['counts']==grapheme_root_distrib['counts'].max()].Class[0]\n",
    "\n",
    "    constants_max_pct = (constant_distrib['counts'].max() / len(train_df)) * 100\n",
    "    majoritary_constant_class = constant_distrib[constant_distrib['counts']==constant_distrib['counts'].max()].Class[0]\n",
    "    \n",
    "    print(f'[INFO] Majoritary class in vowels : {majoritary_vowel_class}, \\t\\t percentage :  {round(vowel_max_pct)}% of the wole dataset')\n",
    "    print(f'[INFO] Majoritary class in grapheme root: {majoritary_grapheme_root_class}, \\t percentage :  {round(grapheme_root_max_pct)}% of the wole dataset')\n",
    "    print(f'[INFO] Majoritary class in constant : {majoritary_constant_class}, \\t percentage :  {round(constants_max_pct)}% of the wole dataset')"
   ]
  },
  {
   "cell_type": "code",
   "execution_count": 151,
   "id": "material-supervisor",
   "metadata": {},
   "outputs": [
    {
     "data": {
      "image/png": "[encoded data removed]",
      "text/plain": [
       "<Figure size 1656x360 with 3 Axes>"
      ]
     },
     "metadata": {
      "needs_background": "light"
     },
     "output_type": "display_data"
    }
   ],
   "source": [
    "plot_distributions()"
   ]
  },
  {
   "cell_type": "markdown",
   "id": "apart-subject",
   "metadata": {},
   "source": [
    "## Conslusion \n",
    "Obviously we conclude that we have a 3X imbalance datasets probleme to solve.\n"
   ]
  },
  {
   "cell_type": "code",
   "execution_count": 150,
   "id": "compressed-emergency",
   "metadata": {},
   "outputs": [
    {
     "name": "stdout",
     "output_type": "stream",
     "text": [
      "[INFO] Majoritary class in vowels : 0, \t\t percentage :  21% of the wole dataset\n",
      "[INFO] Majoritary class in grapheme root: 72, \t percentage :  3% of the wole dataset\n",
      "[INFO] Majoritary class in constant : 0, \t percentage :  62% of the wole dataset\n"
     ]
    }
   ],
   "source": [
    "get_percentages()"
   ]
  },
  {
   "cell_type": "code",
   "execution_count": null,
   "id": "false-coating",
   "metadata": {},
   "outputs": [],
   "source": []
  }
 ],
 "metadata": {
  "kernelspec": {
   "display_name": "Python 3",
   "language": "python",
   "name": "python3"
  },
  "language_info": {
   "codemirror_mode": {
    "name": "ipython",
    "version": 3
   },
   "file_extension": ".py",
   "mimetype": "text/x-python",
   "name": "python",
   "nbconvert_exporter": "python",
   "pygments_lexer": "ipython3",
   "version": "3.8.6"
  }
 },
 "nbformat": 4,
 "nbformat_minor": 5
}
